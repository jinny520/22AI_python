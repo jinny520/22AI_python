{
  "nbformat": 4,
  "nbformat_minor": 0,
  "metadata": {
    "colab": {
      "name": "5.분류(kNN, sklearn, 붓꽃)",
      "provenance": [],
      "collapsed_sections": [],
      "include_colab_link": true
    },
    "kernelspec": {
      "name": "python3",
      "display_name": "Python 3"
    }
  },
  "cells": [
    {
      "cell_type": "markdown",
      "metadata": {
        "id": "view-in-github",
        "colab_type": "text"
      },
      "source": [
        "<a href=\"https://colab.research.google.com/github/jinny520/22AI_python/blob/main/5_%EB%B6%84%EB%A5%98(kNN%2C_sklearn%2C_%EB%B6%93%EA%BD%83).ipynb\" target=\"_parent\"><img src=\"https://colab.research.google.com/assets/colab-badge.svg\" alt=\"Open In Colab\"/></a>"
      ]
    },
    {
      "cell_type": "markdown",
      "metadata": {
        "id": "Sx70VPsV5ze2"
      },
      "source": [
        "# 1. 인공지능이란? \n",
        " : 인간의 지능을 인공적으로 모방하는 총체\n",
        "\n",
        " <img src='https://miro.medium.com/max/1000/0*lOPl0881zcdhdHnl.png' width=700>\n",
        "\n",
        "\n",
        "\n",
        "> 인공지능(Artificial Intelligence)\n",
        "\n",
        ": 가장 오래된 개념으로 인간의 지능을 컴퓨터 프로그램으로 구현해 인공적인 지능을 갖춘 컴퓨터 시스템이다.\n",
        "\n",
        "  * Q. 인공지능의 사례 ? 계산 기능을 모방한 계산기, 일정관리 앱, \n",
        "  * 또 다른 인공지능의 사례를 생각해봅시다\n",
        "\n",
        "> 머신러닝 (Machine Learning)\n",
        "\n",
        ": 말 그대로 기계(Machine)가 스스로 학습(Learning)을 하는 것으로 인간이 직접 지시를(프로그래밍) 하는 것이 아니고, 데이터와 원하는 결과 값을 주면 스스로 학습하여 조건을 찾는 것이다. 인간이 컴퓨터를 다루는 근본적인 개념을 바꾸었다는 측면에서 큰 의미를 지닌다.\n",
        "\n",
        "<img src='https://i0.wp.com/vinodsblog.com/wp-content/uploads/2018/11/Classification-vs-Regression.png?fit=2048%2C1158&ssl=1' width=600>\n",
        "\n",
        "--> [기존 프로그래밍과 인공지능의 차이](https://youtu.be/ZY6eBxyEOq0)\n",
        "\n",
        "> 딥러닝(Deep Learning)\n",
        "\n",
        ": 인간의 뇌 신경망을 모방한 인공 신경망의 한 종류로 예전부터 존재했으나, 근본적인 한계로 인해 사라질 뻔하다가 2000년대 들어 기존 한계를 극복할 알고리즘을 찾아 ‘딥러닝’이라는 새로운 이름으로 브랜딩 하였다. 근래 들어 축적된 막대한 데이터와 그래픽 처리 장치의 발전으로 정확도가 급격히 좋아져서 현재는 활발히 이용되고 있다.\n",
        "\n",
        "\n",
        "* 신경세포 뉴런\n",
        "\n",
        "<img src='https://thumbs.gfycat.com/BrightElatedAlbino-small.gif' width=400>\n",
        "\n",
        "* 서로 상호작용하는 뉴런\n",
        "\n",
        "<img src='https://media2.giphy.com/media/9N2UvCx7wXLnG/giphy.gif' width=600>\n",
        "\n",
        "* 뉴런을 모방한 인공신경망\n",
        "\n",
        "<img src='https://thumbs.gfycat.com/ActiveCourteousAmericanindianhorse-small.gif' width=600>\n",
        "\n"
      ]
    },
    {
      "cell_type": "markdown",
      "metadata": {
        "id": "CNzoB0jx_fs1"
      },
      "source": [
        "\n",
        "# 2. 머신러닝과 딥러닝의 차이\n",
        "\n",
        "<img src='https://blog.kakaocdn.net/dn/LYTie/btqDp12Zbvq/YyvsPGwZYfnvVcHfi9kTE0/img.jpg' width=600>\n",
        "              \n",
        "\n",
        "<img src='https://kr.mathworks.com/solutions/image-video-processing/object-recognition/_jcr_content/mainParsys/band_copy_copy_14735_1351083864/mainParsys/columns_1606542234_c_508428977/2/image_copy_copy_copy.adapt.480.high.svg/1599565806635.svg' width=600>\n",
        "                \n",
        "\n",
        "\n",
        "\n",
        "<img src='https://www.aitimes.kr/news/photo/201807/12087_12004_574.png' width=600>"
      ]
    },
    {
      "cell_type": "markdown",
      "metadata": {
        "id": "JBNUqSMwb3ko"
      },
      "source": [
        "# 3. 지도학습, 비지도학습\n",
        "\n",
        "<img src='https://nohjiho.github.io/images/ml/tensorflow/%EB%A8%B8%EC%8B%A0%EB%9F%AC%EB%8B%9D_%EC%9C%A0%ED%98%95.png' width=1000>"
      ]
    },
    {
      "cell_type": "markdown",
      "metadata": {
        "id": "Ch5yb_zj5zkd"
      },
      "source": [
        "# 4. 지도학습\n",
        "## 분류와 회귀\n",
        "  *  분류 : 서로 다른 대상을 구분하는 것 (결과값이 구분적인 값)\n",
        "  *  회귀 : 새로운 데이터의 예측값을 구하는 것 (결과값이 연속적인 값)\n",
        "\n",
        "<img src='https://i0.wp.com/vinodsblog.com/wp-content/uploads/2018/11/Classification-vs-Regression.png?fit=2048%2C1158&ssl=1' width=600>\n",
        "\n",
        "\n",
        "\n",
        "  * Q. 분류로 해결할 수 있는 문제에는 무엇이 있을까요?\n",
        "  * Q. 회귀로 해결할 수 있는 문제에는 무엇이 있을까요?"
      ]
    },
    {
      "cell_type": "markdown",
      "metadata": {
        "id": "GiabW-Cw5zm2"
      },
      "source": [
        "\n",
        "# 5. 분류 알고리즘\n",
        "## 5-1. Decision Tree (의사결정트리) \n",
        "## 5-2. KNN\n",
        "\n",
        "<img src='https://blog.kakaocdn.net/dn/cvzGSE/btqw569xJ8n/DfckialHS6fgKmDZpy4L01/img.png' width=600>\n",
        "\n",
        "<img src='https://img1.daumcdn.net/thumb/R1280x0/?scode=mtistory2&fname=https%3A%2F%2Fblog.kakaocdn.net%2Fdn%2FbIPgPh%2FbtqyUfXFHSg%2FzaSUkU4xoqEEAsOClKWvw1%2Fimg.png' width=800>"
      ]
    },
    {
      "cell_type": "code",
      "metadata": {
        "colab": {
          "base_uri": "https://localhost:8080/"
        },
        "id": "CO8Ix-aAaw0a",
        "outputId": "af01b21c-1314-462b-ec47-190a55927e88"
      },
      "source": [
        "# 한글 폰트 설정\n",
        "import matplotlib.pyplot as plt\n",
        "import matplotlib as mpl\n",
        "import matplotlib.pyplot as plt\n",
        " \n",
        "%config InlineBackend.figure_format = 'retina'\n",
        " \n",
        "!apt -qq -y install fonts-nanum\n",
        " \n",
        "import matplotlib.font_manager as fm\n",
        "fontpath = '/usr/share/fonts/truetype/nanum/NanumBarunGothic.ttf'\n",
        "font = fm.FontProperties(fname=fontpath, size=9)\n",
        "plt.rc('font', family='NanumGothic') \n",
        "mpl.font_manager._rebuild()"
      ],
      "execution_count": null,
      "outputs": [
        {
          "output_type": "stream",
          "name": "stdout",
          "text": [
            "fonts-nanum is already the newest version (20170925-1).\n",
            "The following package was automatically installed and is no longer required:\n",
            "  libnvidia-common-460\n",
            "Use 'apt autoremove' to remove it.\n",
            "0 upgraded, 0 newly installed, 0 to remove and 42 not upgraded.\n"
          ]
        }
      ]
    },
    {
      "cell_type": "markdown",
      "metadata": {
        "id": "qsJLbg9iX_6T"
      },
      "source": [
        "## KNN 1) 붓꽃 데이터 KNN으로 분류해보기\n",
        "\n",
        "\n",
        "(1) 데이터 업로드 및 숫자로 변환\n",
        "```\n",
        "from google.colab import files\n",
        "uploaded = files.upload()\n",
        "```\n",
        "\n",
        "\n",
        "\n",
        "```\n",
        "import csv \n",
        " \n",
        "f = open('파일명')\n",
        "data = csv.reader(f)\n",
        "next(data)\n",
        "data = list(data)\n",
        "```\n",
        "\n",
        "\n"
      ]
    },
    {
      "cell_type": "code",
      "metadata": {
        "colab": {
          "resources": {
            "http://localhost:8080/nbextensions/google.colab/files.js": {
              "data": "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",
              "ok": true,
              "headers": [
                [
                  "content-type",
                  "application/javascript"
                ]
              ],
              "status": 200,
              "status_text": ""
            }
          },
          "base_uri": "https://localhost:8080/",
          "height": 77
        },
        "id": "hO1f80EZ3rjC",
        "outputId": "06a59325-29ea-4a14-e904-f53cfad00164"
      },
      "source": [
        "from google.colab import files\n",
        "uploaded = files.upload()\n",
        "\n",
        "import csv \n",
        " \n",
        "f = open('Iris.csv')\n",
        "data = csv.reader(f)\n",
        "next(data)\n",
        "data = list(data)"
      ],
      "execution_count": null,
      "outputs": [
        {
          "output_type": "display_data",
          "data": {
            "text/plain": [
              "<IPython.core.display.HTML object>"
            ],
            "text/html": [
              "\n",
              "     <input type=\"file\" id=\"files-d2249a5d-6be5-49a0-8dc4-e68e292638ca\" name=\"files[]\" multiple disabled\n",
              "        style=\"border:none\" />\n",
              "     <output id=\"result-d2249a5d-6be5-49a0-8dc4-e68e292638ca\">\n",
              "      Upload widget is only available when the cell has been executed in the\n",
              "      current browser session. Please rerun this cell to enable.\n",
              "      </output>\n",
              "      <script src=\"/nbextensions/google.colab/files.js\"></script> "
            ]
          },
          "metadata": {}
        },
        {
          "output_type": "stream",
          "name": "stdout",
          "text": [
            "Saving Iris.csv to Iris (1).csv\n"
          ]
        }
      ]
    },
    {
      "cell_type": "code",
      "metadata": {
        "colab": {
          "base_uri": "https://localhost:8080/"
        },
        "id": "T3k5b0rJWkD-",
        "outputId": "60c60878-f8eb-41f7-c6b0-6c8866617d16"
      },
      "source": [
        "for row in data : \n",
        "    row[1] = float(row[1])\n",
        "    row[2] = float(row[2])\n",
        "    row[3] = float(row[3])\n",
        "    row[4] = float(row[4])\n",
        "\n",
        "print(data)"
      ],
      "execution_count": null,
      "outputs": [
        {
          "output_type": "stream",
          "name": "stdout",
          "text": [
            "[['1', 5.1, 3.5, 1.4, 0.2, 'Iris-setosa'], ['2', 4.9, 3.0, 1.4, 0.2, 'Iris-setosa'], ['3', 4.7, 3.2, 1.3, 0.2, 'Iris-setosa'], ['4', 4.6, 3.1, 1.5, 0.2, 'Iris-setosa'], ['5', 5.0, 3.6, 1.4, 0.2, 'Iris-setosa'], ['6', 5.4, 3.9, 1.7, 0.4, 'Iris-setosa'], ['7', 4.6, 3.4, 1.4, 0.3, 'Iris-setosa'], ['8', 5.0, 3.4, 1.5, 0.2, 'Iris-setosa'], ['9', 4.4, 2.9, 1.4, 0.2, 'Iris-setosa'], ['10', 4.9, 3.1, 1.5, 0.1, 'Iris-setosa'], ['11', 5.4, 3.7, 1.5, 0.2, 'Iris-setosa'], ['12', 4.8, 3.4, 1.6, 0.2, 'Iris-setosa'], ['13', 4.8, 3.0, 1.4, 0.1, 'Iris-setosa'], ['14', 4.3, 3.0, 1.1, 0.1, 'Iris-setosa'], ['15', 5.8, 4.0, 1.2, 0.2, 'Iris-setosa'], ['16', 5.7, 4.4, 1.5, 0.4, 'Iris-setosa'], ['17', 5.4, 3.9, 1.3, 0.4, 'Iris-setosa'], ['18', 5.1, 3.5, 1.4, 0.3, 'Iris-setosa'], ['19', 5.7, 3.8, 1.7, 0.3, 'Iris-setosa'], ['20', 5.1, 3.8, 1.5, 0.3, 'Iris-setosa'], ['21', 5.4, 3.4, 1.7, 0.2, 'Iris-setosa'], ['22', 5.1, 3.7, 1.5, 0.4, 'Iris-setosa'], ['23', 4.6, 3.6, 1.0, 0.2, 'Iris-setosa'], ['24', 5.1, 3.3, 1.7, 0.5, 'Iris-setosa'], ['25', 4.8, 3.4, 1.9, 0.2, 'Iris-setosa'], ['26', 5.0, 3.0, 1.6, 0.2, 'Iris-setosa'], ['27', 5.0, 3.4, 1.6, 0.4, 'Iris-setosa'], ['28', 5.2, 3.5, 1.5, 0.2, 'Iris-setosa'], ['29', 5.2, 3.4, 1.4, 0.2, 'Iris-setosa'], ['30', 4.7, 3.2, 1.6, 0.2, 'Iris-setosa'], ['31', 4.8, 3.1, 1.6, 0.2, 'Iris-setosa'], ['32', 5.4, 3.4, 1.5, 0.4, 'Iris-setosa'], ['33', 5.2, 4.1, 1.5, 0.1, 'Iris-setosa'], ['34', 5.5, 4.2, 1.4, 0.2, 'Iris-setosa'], ['35', 4.9, 3.1, 1.5, 0.1, 'Iris-setosa'], ['36', 5.0, 3.2, 1.2, 0.2, 'Iris-setosa'], ['37', 5.5, 3.5, 1.3, 0.2, 'Iris-setosa'], ['38', 4.9, 3.1, 1.5, 0.1, 'Iris-setosa'], ['39', 4.4, 3.0, 1.3, 0.2, 'Iris-setosa'], ['40', 5.1, 3.4, 1.5, 0.2, 'Iris-setosa'], ['41', 5.0, 3.5, 1.3, 0.3, 'Iris-setosa'], ['42', 4.5, 2.3, 1.3, 0.3, 'Iris-setosa'], ['43', 4.4, 3.2, 1.3, 0.2, 'Iris-setosa'], ['44', 5.0, 3.5, 1.6, 0.6, 'Iris-setosa'], ['45', 5.1, 3.8, 1.9, 0.4, 'Iris-setosa'], ['46', 4.8, 3.0, 1.4, 0.3, 'Iris-setosa'], ['47', 5.1, 3.8, 1.6, 0.2, 'Iris-setosa'], ['48', 4.6, 3.2, 1.4, 0.2, 'Iris-setosa'], ['49', 5.3, 3.7, 1.5, 0.2, 'Iris-setosa'], ['50', 5.0, 3.3, 1.4, 0.2, 'Iris-setosa'], ['51', 7.0, 3.2, 4.7, 1.4, 'Iris-versicolor'], ['52', 6.4, 3.2, 4.5, 1.5, 'Iris-versicolor'], ['53', 6.9, 3.1, 4.9, 1.5, 'Iris-versicolor'], ['54', 5.5, 2.3, 4.0, 1.3, 'Iris-versicolor'], ['55', 6.5, 2.8, 4.6, 1.5, 'Iris-versicolor'], ['56', 5.7, 2.8, 4.5, 1.3, 'Iris-versicolor'], ['57', 6.3, 3.3, 4.7, 1.6, 'Iris-versicolor'], ['58', 4.9, 2.4, 3.3, 1.0, 'Iris-versicolor'], ['59', 6.6, 2.9, 4.6, 1.3, 'Iris-versicolor'], ['60', 5.2, 2.7, 3.9, 1.4, 'Iris-versicolor'], ['61', 5.0, 2.0, 3.5, 1.0, 'Iris-versicolor'], ['62', 5.9, 3.0, 4.2, 1.5, 'Iris-versicolor'], ['63', 6.0, 2.2, 4.0, 1.0, 'Iris-versicolor'], ['64', 6.1, 2.9, 4.7, 1.4, 'Iris-versicolor'], ['65', 5.6, 2.9, 3.6, 1.3, 'Iris-versicolor'], ['66', 6.7, 3.1, 4.4, 1.4, 'Iris-versicolor'], ['67', 5.6, 3.0, 4.5, 1.5, 'Iris-versicolor'], ['68', 5.8, 2.7, 4.1, 1.0, 'Iris-versicolor'], ['69', 6.2, 2.2, 4.5, 1.5, 'Iris-versicolor'], ['70', 5.6, 2.5, 3.9, 1.1, 'Iris-versicolor'], ['71', 5.9, 3.2, 4.8, 1.8, 'Iris-versicolor'], ['72', 6.1, 2.8, 4.0, 1.3, 'Iris-versicolor'], ['73', 6.3, 2.5, 4.9, 1.5, 'Iris-versicolor'], ['74', 6.1, 2.8, 4.7, 1.2, 'Iris-versicolor'], ['75', 6.4, 2.9, 4.3, 1.3, 'Iris-versicolor'], ['76', 6.6, 3.0, 4.4, 1.4, 'Iris-versicolor'], ['77', 6.8, 2.8, 4.8, 1.4, 'Iris-versicolor'], ['78', 6.7, 3.0, 5.0, 1.7, 'Iris-versicolor'], ['79', 6.0, 2.9, 4.5, 1.5, 'Iris-versicolor'], ['80', 5.7, 2.6, 3.5, 1.0, 'Iris-versicolor'], ['81', 5.5, 2.4, 3.8, 1.1, 'Iris-versicolor'], ['82', 5.5, 2.4, 3.7, 1.0, 'Iris-versicolor'], ['83', 5.8, 2.7, 3.9, 1.2, 'Iris-versicolor'], ['84', 6.0, 2.7, 5.1, 1.6, 'Iris-versicolor'], ['85', 5.4, 3.0, 4.5, 1.5, 'Iris-versicolor'], ['86', 6.0, 3.4, 4.5, 1.6, 'Iris-versicolor'], ['87', 6.7, 3.1, 4.7, 1.5, 'Iris-versicolor'], ['88', 6.3, 2.3, 4.4, 1.3, 'Iris-versicolor'], ['89', 5.6, 3.0, 4.1, 1.3, 'Iris-versicolor'], ['90', 5.5, 2.5, 4.0, 1.3, 'Iris-versicolor'], ['91', 5.5, 2.6, 4.4, 1.2, 'Iris-versicolor'], ['92', 6.1, 3.0, 4.6, 1.4, 'Iris-versicolor'], ['93', 5.8, 2.6, 4.0, 1.2, 'Iris-versicolor'], ['94', 5.0, 2.3, 3.3, 1.0, 'Iris-versicolor'], ['95', 5.6, 2.7, 4.2, 1.3, 'Iris-versicolor'], ['96', 5.7, 3.0, 4.2, 1.2, 'Iris-versicolor'], ['97', 5.7, 2.9, 4.2, 1.3, 'Iris-versicolor'], ['98', 6.2, 2.9, 4.3, 1.3, 'Iris-versicolor'], ['99', 5.1, 2.5, 3.0, 1.1, 'Iris-versicolor'], ['100', 5.7, 2.8, 4.1, 1.3, 'Iris-versicolor'], ['101', 6.3, 3.3, 6.0, 2.5, 'Iris-virginica'], ['102', 5.8, 2.7, 5.1, 1.9, 'Iris-virginica'], ['103', 7.1, 3.0, 5.9, 2.1, 'Iris-virginica'], ['104', 6.3, 2.9, 5.6, 1.8, 'Iris-virginica'], ['105', 6.5, 3.0, 5.8, 2.2, 'Iris-virginica'], ['106', 7.6, 3.0, 6.6, 2.1, 'Iris-virginica'], ['107', 4.9, 2.5, 4.5, 1.7, 'Iris-virginica'], ['108', 7.3, 2.9, 6.3, 1.8, 'Iris-virginica'], ['109', 6.7, 2.5, 5.8, 1.8, 'Iris-virginica'], ['110', 7.2, 3.6, 6.1, 2.5, 'Iris-virginica'], ['111', 6.5, 3.2, 5.1, 2.0, 'Iris-virginica'], ['112', 6.4, 2.7, 5.3, 1.9, 'Iris-virginica'], ['113', 6.8, 3.0, 5.5, 2.1, 'Iris-virginica'], ['114', 5.7, 2.5, 5.0, 2.0, 'Iris-virginica'], ['115', 5.8, 2.8, 5.1, 2.4, 'Iris-virginica'], ['116', 6.4, 3.2, 5.3, 2.3, 'Iris-virginica'], ['117', 6.5, 3.0, 5.5, 1.8, 'Iris-virginica'], ['118', 7.7, 3.8, 6.7, 2.2, 'Iris-virginica'], ['119', 7.7, 2.6, 6.9, 2.3, 'Iris-virginica'], ['120', 6.0, 2.2, 5.0, 1.5, 'Iris-virginica'], ['121', 6.9, 3.2, 5.7, 2.3, 'Iris-virginica'], ['122', 5.6, 2.8, 4.9, 2.0, 'Iris-virginica'], ['123', 7.7, 2.8, 6.7, 2.0, 'Iris-virginica'], ['124', 6.3, 2.7, 4.9, 1.8, 'Iris-virginica'], ['125', 6.7, 3.3, 5.7, 2.1, 'Iris-virginica'], ['126', 7.2, 3.2, 6.0, 1.8, 'Iris-virginica'], ['127', 6.2, 2.8, 4.8, 1.8, 'Iris-virginica'], ['128', 6.1, 3.0, 4.9, 1.8, 'Iris-virginica'], ['129', 6.4, 2.8, 5.6, 2.1, 'Iris-virginica'], ['130', 7.2, 3.0, 5.8, 1.6, 'Iris-virginica'], ['131', 7.4, 2.8, 6.1, 1.9, 'Iris-virginica'], ['132', 7.9, 3.8, 6.4, 2.0, 'Iris-virginica'], ['133', 6.4, 2.8, 5.6, 2.2, 'Iris-virginica'], ['134', 6.3, 2.8, 5.1, 1.5, 'Iris-virginica'], ['135', 6.1, 2.6, 5.6, 1.4, 'Iris-virginica'], ['136', 7.7, 3.0, 6.1, 2.3, 'Iris-virginica'], ['137', 6.3, 3.4, 5.6, 2.4, 'Iris-virginica'], ['138', 6.4, 3.1, 5.5, 1.8, 'Iris-virginica'], ['139', 6.0, 3.0, 4.8, 1.8, 'Iris-virginica'], ['140', 6.9, 3.1, 5.4, 2.1, 'Iris-virginica'], ['141', 6.7, 3.1, 5.6, 2.4, 'Iris-virginica'], ['142', 6.9, 3.1, 5.1, 2.3, 'Iris-virginica'], ['143', 5.8, 2.7, 5.1, 1.9, 'Iris-virginica'], ['144', 6.8, 3.2, 5.9, 2.3, 'Iris-virginica'], ['145', 6.7, 3.3, 5.7, 2.5, 'Iris-virginica'], ['146', 6.7, 3.0, 5.2, 2.3, 'Iris-virginica'], ['147', 6.3, 2.5, 5.0, 1.9, 'Iris-virginica'], ['148', 6.5, 3.0, 5.2, 2.0, 'Iris-virginica'], ['149', 6.2, 3.4, 5.4, 2.3, 'Iris-virginica'], ['150', 5.9, 3.0, 5.1, 1.8, 'Iris-virginica']]\n"
          ]
        }
      ]
    },
    {
      "cell_type": "markdown",
      "metadata": {
        "id": "h5DokRR8Ygbd"
      },
      "source": [
        "(2) 데이터 시각화 - 꽃잎 길이를 가로축, 꽃잎 너비를 세로축으로 하는 산점도 그려보기 (색상을 그림 참고)\n",
        "\n",
        "\n",
        "<img src='https://github.com/Ahnjihye/allinone_AI/blob/images/iris_1.png?raw=true' width = 500>\n",
        "\n",
        "<img src='https://github.com/Ahnjihye/allinone_AI/blob/images/iris_2.png?raw=true' width = 500>"
      ]
    },
    {
      "cell_type": "code",
      "metadata": {
        "colab": {
          "base_uri": "https://localhost:8080/",
          "height": 279
        },
        "id": "UoZzRGrBYTcb",
        "outputId": "e9b36465-cdd0-423e-d0ba-1291a9b3116b"
      },
      "source": [
        "# 점 하나 찍을 때마다 품종을 구분하여 찍기\n",
        "for row in data : \n",
        "    if row[-1] == 'Iris-setosa' : \n",
        "        plt.scatter(row[3], row[4], c = 'indigo')\n",
        "    elif row[-1] == 'Iris-versicolor' : \n",
        "        plt.scatter(row[3], row[4], c = 'crimson')\n",
        "    else : \n",
        "        plt.scatter(row[3], row[4], c = 'limegreen')\n",
        "\n",
        "plt.xlabel('꽃잎 길이')\n",
        "plt.ylabel('꽃잎 너비')\n",
        "plt.show()"
      ],
      "execution_count": null,
      "outputs": [
        {
          "output_type": "display_data",
          "data": {
            "text/plain": [
              "<Figure size 432x288 with 1 Axes>"
            ],
            "image/png": "[encoded data removed]"
          },
          "metadata": {
            "image/png": {
              "width": 385,
              "height": 262
            },
            "needs_background": "light"
          }
        }
      ]
    },
    {
      "cell_type": "markdown",
      "metadata": {
        "id": "BWmY_lKIbpBi"
      },
      "source": [
        "(3) 새로운 붓꽃 그래프에 표현해보기\n",
        "\n",
        "꽃받침 길이가 다음과 같은 꽃이 인식되었을 때, 인공지능은 어떻게 판단할까요?\n",
        "\n",
        "1.   꽃잎 길이 = 2.5, 꽃받침 너비 = 0.75\n",
        "2.   꽃잎 길이 = 5, 꽃받침 너비 = 1.75\n",
        "\n",
        "---\n",
        "\n",
        "\n",
        "지금까지 작성한 그래프 위에 두 개 점을 파랑색 별로 찍어봅시다.\n",
        "\n",
        "- scatter 점 모양 변경 옵션 : marker = '*'\n",
        "- scatter 점 크기 변경 옵션 : s = 150"
      ]
    },
    {
      "cell_type": "code",
      "metadata": {
        "colab": {
          "base_uri": "https://localhost:8080/",
          "height": 279
        },
        "id": "jLNSTodxYTZ6",
        "outputId": "d6309e9b-7f75-4c56-dc89-0b30c548f24f"
      },
      "source": [
        "for row in data : \n",
        "    if row[-1] == 'Iris-setosa' : \n",
        "        plt.scatter(row[3], row[4], c = 'indigo')\n",
        "    elif row[-1] == 'Iris-versicolor' : \n",
        "        plt.scatter(row[3], row[4], c = 'crimson')\n",
        "    else : \n",
        "        plt.scatter(row[3], row[4], c = 'limegreen')\n",
        "\n",
        "plt.scatter(2.5, 0.75, color ='b', marker='*', s=150)\n",
        "plt.scatter(5, 1.75, color ='b', marker='*', s=150)\n",
        "\n",
        "plt.xlabel('꽃잎 길이')\n",
        "plt.ylabel('꽃잎 너비')\n",
        "plt.show()"
      ],
      "execution_count": null,
      "outputs": [
        {
          "output_type": "display_data",
          "data": {
            "text/plain": [
              "<Figure size 432x288 with 1 Axes>"
            ],
            "image/png": "[encoded data removed]"
          },
          "metadata": {
            "image/png": {
              "width": 385,
              "height": 262
            },
            "needs_background": "light"
          }
        }
      ]
    },
    {
      "cell_type": "markdown",
      "metadata": {
        "id": "NJ1Q1AodcFTz"
      },
      "source": [
        "(4) KNN으로 학습시켜보자\n",
        "\n",
        "1. 모델 만들기\n",
        "2. 모델 학습시키기\n",
        "3. 새로운 데이터 예측해보기"
      ]
    },
    {
      "cell_type": "code",
      "metadata": {
        "id": "mk_r6S3EYTef"
      },
      "source": [
        "# 1. 필요한 속성만 추출하기 - 꽃잎 길이, 꽃잎 너비\n",
        "petal_len_wid = []\n",
        "species = []\n",
        "\n",
        "for row in data : \n",
        "    petal_len_wid.append([row[3], row[4]])\n",
        "    species.append(row[5])\n"
      ],
      "execution_count": null,
      "outputs": []
    },
    {
      "cell_type": "code",
      "metadata": {
        "id": "FuUb2alFYTg8"
      },
      "source": [
        "from sklearn.neighbors import KNeighborsClassifier\n",
        "\n",
        "# 2. KNN 모델 생성하기\n",
        "model = KNeighborsClassifier(n_neighbors=3)"
      ],
      "execution_count": null,
      "outputs": []
    },
    {
      "cell_type": "code",
      "metadata": {
        "colab": {
          "base_uri": "https://localhost:8080/"
        },
        "id": "kiE4sZqHWkGj",
        "outputId": "3211f1e7-a062-47cb-c499-af8ecd0b2624"
      },
      "source": [
        "# 3. KNN 모델에 학습데이터 넣고 학습시키기 .fit\n",
        "model.fit(petal_len_wid, species)"
      ],
      "execution_count": null,
      "outputs": [
        {
          "output_type": "execute_result",
          "data": {
            "text/plain": [
              "KNeighborsClassifier(n_neighbors=3)"
            ]
          },
          "metadata": {},
          "execution_count": 13
        }
      ]
    },
    {
      "cell_type": "code",
      "metadata": {
        "colab": {
          "base_uri": "https://localhost:8080/"
        },
        "id": "RTt1aoCRWkIz",
        "outputId": "60038fb6-64e5-40d1-eccb-3aa8a260f230"
      },
      "source": [
        "# 4. 새로운 데이터 예측시키기\n",
        "model.predict([[2.5, 0.75]])"
      ],
      "execution_count": null,
      "outputs": [
        {
          "output_type": "execute_result",
          "data": {
            "text/plain": [
              "array(['Iris-setosa'], dtype='<U15')"
            ]
          },
          "metadata": {},
          "execution_count": 14
        }
      ]
    },
    {
      "cell_type": "code",
      "metadata": {
        "colab": {
          "base_uri": "https://localhost:8080/"
        },
        "id": "5bd86fLDWkLO",
        "outputId": "3bfb27b1-6837-4d8f-da84-5c946bf9680f"
      },
      "source": [
        "model.predict([[5, 1.75]])"
      ],
      "execution_count": null,
      "outputs": [
        {
          "output_type": "execute_result",
          "data": {
            "text/plain": [
              "array(['Iris-virginica'], dtype='<U15')"
            ]
          },
          "metadata": {},
          "execution_count": 15
        }
      ]
    },
    {
      "cell_type": "code",
      "metadata": {
        "colab": {
          "base_uri": "https://localhost:8080/"
        },
        "id": "r0a-zylhfTOU",
        "outputId": "fb6572a3-78bc-4a80-b895-88c916ae70ad"
      },
      "source": [
        "model.predict([[3, 1]])"
      ],
      "execution_count": null,
      "outputs": [
        {
          "output_type": "execute_result",
          "data": {
            "text/plain": [
              "array(['Iris-versicolor'], dtype='<U15')"
            ]
          },
          "metadata": {},
          "execution_count": 16
        }
      ]
    },
    {
      "cell_type": "markdown",
      "metadata": {
        "id": "uEM4kljOkMWT"
      },
      "source": [
        "## KNN 2) 지난 연수의 KNN 코드 다시 복습해보기\n",
        "\n",
        "[KNN 알고리즘 - 라이브러리 없이 직접 프로그래밍하기](https://github.com/Ahnjihye/allinone_AI/blob/master/AIO_AI_day4_(%EC%99%84%EC%84%B1%EB%B3%B8)_kNN_%EB%B6%84%EB%A5%98_%EB%AA%A8%EB%8D%B8.ipynb)\n",
        "\n"
      ]
    }
  ]
}