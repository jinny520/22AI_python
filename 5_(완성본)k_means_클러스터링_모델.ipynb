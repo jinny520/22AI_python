{
  "nbformat": 4,
  "nbformat_minor": 0,
  "metadata": {
    "colab": {
      "name": "5. (완성본)k-means 클러스터링 모델.ipynb",
      "provenance": [],
      "collapsed_sections": [],
      "include_colab_link": true
    },
    "kernelspec": {
      "name": "python3",
      "display_name": "Python 3"
    }
  },
  "cells": [
    {
      "cell_type": "markdown",
      "metadata": {
        "id": "view-in-github",
        "colab_type": "text"
      },
      "source": [
        "<a href=\"https://colab.research.google.com/github/jinny520/22AI_python/blob/main/5_(%EC%99%84%EC%84%B1%EB%B3%B8)k_means_%ED%81%B4%EB%9F%AC%EC%8A%A4%ED%84%B0%EB%A7%81_%EB%AA%A8%EB%8D%B8.ipynb\" target=\"_parent\"><img src=\"https://colab.research.google.com/assets/colab-badge.svg\" alt=\"Open In Colab\"/></a>"
      ]
    },
    {
      "cell_type": "markdown",
      "source": [
        "# K-means\n",
        "\n",
        "군집의 개수는 정하기 나름 \n",
        "\n",
        "<img src='https://github.com/Ahnjihye/allinone_AI/blob/images/65_clustering.png?raw=true' width=600>"
      ],
      "metadata": {
        "id": "LF-sf5Em_t5R"
      }
    },
    {
      "cell_type": "markdown",
      "source": [
        "### Kmeans 군집 결정 알고리즘\n",
        "\n",
        "<img src='https://ichi.pro/assets/images/max/724/1*b2sO2f--yfZiJazc5rYSpg.gif' width=500>\n",
        "\n",
        "<img src='https://img1.daumcdn.net/thumb/R800x0/?scode=mtistory2&fname=https%3A%2F%2Fblog.kakaocdn.net%2Fdn%2FIzYb3%2FbtqyWWJ6pRR%2FfLbSvEKc7ncHp18dMLtcIK%2Fimg.png' width=600>\n",
        "\n",
        "<img src='https://img1.daumcdn.net/thumb/R1280x0/?scode=mtistory2&fname=https%3A%2F%2Fblog.kakaocdn.net%2Fdn%2Fdl53k5%2FbtqySsYwtNv%2F6Yd5kpKS4KN7FO6h95AJn0%2Fimg.png' width=600>\n",
        "\n",
        "<img src='https://img1.daumcdn.net/thumb/R1280x0/?scode=mtistory2&fname=https%3A%2F%2Fblog.kakaocdn.net%2Fdn%2FKZwKX%2FbtqyUK49PIv%2Fpz8uFW6TxKPYLkTTAc4IkK%2Fimg.png' width=600>\n",
        "\n",
        "<img src='https://img1.daumcdn.net/thumb/R1280x0/?scode=mtistory2&fname=https%3A%2F%2Fblog.kakaocdn.net%2Fdn%2FbOdu7N%2FbtqyTk0hrsL%2FOTet3D6KqHb6W00N8xX3J0%2Fimg.png' width=600>\n"
      ],
      "metadata": {
        "id": "EmsJThIj_zuw"
      }
    },
    {
      "cell_type": "markdown",
      "source": [
        "#### 코딩하기 전에 K-means를 시뮬레이션해보자\n",
        "\n",
        "\n",
        "[K-means Clustering Visualization](https://www.naftaliharris.com/blog/visualizing-k-means-clustering/)\n"
      ],
      "metadata": {
        "id": "UEkASbl7_5NY"
      }
    },
    {
      "cell_type": "markdown",
      "metadata": {
        "id": "1Xa5Y5r1RYAG"
      },
      "source": [
        "# **1. 데이터 불러오고 확인해보기**"
      ]
    },
    {
      "cell_type": "code",
      "metadata": {
        "id": "NyYYGakPOpEX",
        "colab": {
          "resources": {
            "http://localhost:8080/nbextensions/google.colab/files.js": {
              "data": "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",
              "ok": true,
              "headers": [
                [
                  "content-type",
                  "application/javascript"
                ]
              ],
              "status": 200,
              "status_text": ""
            }
          },
          "base_uri": "https://localhost:8080/",
          "height": 76
        },
        "outputId": "0fee921d-f682-4401-e572-2dd9f3e67bbb"
      },
      "source": [
        "# 방법1) 내 PC에 있는 파일 불러오기\n",
        "\n",
        "from google.colab import files\n",
        "uploaded = files.upload()"
      ],
      "execution_count": null,
      "outputs": [
        {
          "output_type": "display_data",
          "data": {
            "text/html": [
              "\n",
              "     <input type=\"file\" id=\"files-5744ab53-c9f7-44f3-81e8-f385a43f30da\" name=\"files[]\" multiple disabled\n",
              "        style=\"border:none\" />\n",
              "     <output id=\"result-5744ab53-c9f7-44f3-81e8-f385a43f30da\">\n",
              "      Upload widget is only available when the cell has been executed in the\n",
              "      current browser session. Please rerun this cell to enable.\n",
              "      </output>\n",
              "      <script src=\"/nbextensions/google.colab/files.js\"></script> "
            ],
            "text/plain": [
              "<IPython.core.display.HTML object>"
            ]
          },
          "metadata": {
            "tags": []
          }
        },
        {
          "output_type": "stream",
          "text": [
            "Saving Iris_1.csv to Iris_1.csv\n"
          ],
          "name": "stdout"
        }
      ]
    },
    {
      "cell_type": "code",
      "metadata": {
        "id": "QLOOMX_sUxJI"
      },
      "source": [
        "# 방법2) 깃허브에 있는 파일 불러오기\n",
        "\n",
        "! git clone '링크 입력'"
      ],
      "execution_count": null,
      "outputs": []
    },
    {
      "cell_type": "code",
      "source": [
        "! git clone 'https://github.com/jinny520/22AI_python'"
      ],
      "metadata": {
        "colab": {
          "base_uri": "https://localhost:8080/"
        },
        "id": "oVmyibFnzgvB",
        "outputId": "c90da468-219a-4bb6-f716-e40316de78c9"
      },
      "execution_count": null,
      "outputs": [
        {
          "output_type": "stream",
          "name": "stdout",
          "text": [
            "Cloning into '22AI_python'...\n",
            "remote: Enumerating objects: 53, done.\u001b[K\n",
            "remote: Counting objects: 100% (53/53), done.\u001b[K\n",
            "remote: Compressing objects: 100% (53/53), done.\u001b[K\n",
            "remote: Total 53 (delta 25), reused 0 (delta 0), pack-reused 0\u001b[K\n",
            "Unpacking objects: 100% (53/53), done.\n"
          ]
        }
      ]
    },
    {
      "cell_type": "code",
      "source": [
        "cd 22AI_python/"
      ],
      "metadata": {
        "colab": {
          "base_uri": "https://localhost:8080/"
        },
        "id": "EYIPnMM9z26a",
        "outputId": "a53aea57-18d9-4fc3-86b1-b07bf5fdba48"
      },
      "execution_count": null,
      "outputs": [
        {
          "output_type": "stream",
          "name": "stdout",
          "text": [
            "/content/22AI_python\n"
          ]
        }
      ]
    },
    {
      "cell_type": "code",
      "source": [
        "ls"
      ],
      "metadata": {
        "colab": {
          "base_uri": "https://localhost:8080/"
        },
        "id": "2HNkMq63z1m5",
        "outputId": "cc6a3862-b03e-45c6-df03-8d9f56e541a6"
      },
      "execution_count": null,
      "outputs": [
        {
          "output_type": "stream",
          "name": "stdout",
          "text": [
            "'1_(완성본)머신러닝_분류.ipynb'\n",
            "'2_(완성본)_파이썬_기본_프로그래밍_.ipynb'\n",
            "'2_(실습용)_파이썬_기본_프로그래밍_.ipynb'\n",
            "'3_(완성본)_데이터_분석.ipynb'\n",
            "'3_(실습용)데이터분석.ipynb'\n",
            "'4_(실습용)분류(kNN,구현,_붓꽃).ipynb'\n",
            "'4_분류(kNN,구현,_붓꽃).ipynb'\n",
            " Iris_1.csv\n",
            " Iris_2.csv\n",
            " Iris.csv\n"
          ]
        }
      ]
    },
    {
      "cell_type": "code",
      "metadata": {
        "id": "7MZgtCrNOwwZ"
      },
      "source": [
        "import csv \n",
        " \n",
        "f = open('Iris_1.csv')       # 파일 오픈\n",
        "data = csv.reader(f)         # 파일 읽기 reader\n",
        "next(data)                   # 파일 헤더 건너뛰기 \n",
        "data = list(data)            # 파일 리스트로 바꾸기\n"
      ],
      "execution_count": null,
      "outputs": []
    },
    {
      "cell_type": "code",
      "metadata": {
        "id": "YnuTMEq2U7SF",
        "colab": {
          "base_uri": "https://localhost:8080/"
        },
        "outputId": "6409d765-cb3d-4bba-bd8e-3732af599343"
      },
      "source": [
        "# 확인용\n",
        "data[:5]"
      ],
      "execution_count": null,
      "outputs": [
        {
          "output_type": "execute_result",
          "data": {
            "text/plain": [
              "[['5.1', '3.5', 'Setosa'],\n",
              " ['4.9', '3', 'Setosa'],\n",
              " ['4.7', '3.2', 'Setosa'],\n",
              " ['4.6', '3.1', 'Setosa'],\n",
              " ['5', '3.6', 'Setosa']]"
            ]
          },
          "metadata": {},
          "execution_count": 9
        }
      ]
    },
    {
      "cell_type": "code",
      "metadata": {
        "id": "Avq69yzbPROF",
        "colab": {
          "base_uri": "https://localhost:8080/"
        },
        "outputId": "4502737e-b918-472d-d645-cc294f282c1f"
      },
      "source": [
        "# 꽃받침 길이/넓이 => 숫자(실수)로 변경\n",
        "\n",
        "for row in data :\n",
        "    row[0] = float(row[0])\n",
        "    row[1] = float(row[1])\n",
        "\n",
        "# 확인용\n",
        "data[:5]"
      ],
      "execution_count": null,
      "outputs": [
        {
          "output_type": "execute_result",
          "data": {
            "text/plain": [
              "[[5.1, 3.5, 'Setosa'],\n",
              " [4.9, 3.0, 'Setosa'],\n",
              " [4.7, 3.2, 'Setosa'],\n",
              " [4.6, 3.1, 'Setosa'],\n",
              " [5.0, 3.6, 'Setosa']]"
            ]
          },
          "metadata": {},
          "execution_count": 10
        }
      ]
    },
    {
      "cell_type": "code",
      "metadata": {
        "id": "Kyq3wRemPQ55",
        "colab": {
          "base_uri": "https://localhost:8080/",
          "height": 268
        },
        "outputId": "ee382b58-37a9-4cfa-d6d4-61922b29fec9"
      },
      "source": [
        "# 데이터 분포를 확인하기 위한 시각화 (품종을 나타내는 레이블이 없다고 가정)\n",
        "\n",
        "import matplotlib.pyplot as plt\n",
        "\n",
        "for row in data :\n",
        "    plt.scatter(row[0], row[1], color='silver')\n",
        "\n",
        "plt.show()"
      ],
      "execution_count": null,
      "outputs": [
        {
          "output_type": "display_data",
          "data": {
            "text/plain": [
              "<Figure size 432x288 with 1 Axes>"
            ],
            "image/png": "[encoded data removed]"
          },
          "metadata": {
            "needs_background": "light"
          }
        }
      ]
    },
    {
      "cell_type": "markdown",
      "metadata": {
        "id": "HKcQ0dfzR9l_"
      },
      "source": [
        "# **2. k-means 알고리즘에 따라 구현해보기 (단계별)**"
      ]
    },
    {
      "cell_type": "code",
      "metadata": {
        "id": "PP9jHCW_K93I"
      },
      "source": [
        "# [단계1] 변수 초기화, 두 개의 초기 중심을 랜덤으로 설정하기 \n",
        "\n",
        "import random\n",
        "\n",
        "meanA, meanB = [0,0], [0,0]\n",
        "\n",
        "while meanA == meanB :\n",
        "    meanA = random.choice(data)[:2]\n",
        "    meanB = random.choice(data)[:2]"
      ],
      "execution_count": null,
      "outputs": []
    },
    {
      "cell_type": "code",
      "metadata": {
        "id": "vSU5BftYQr0y",
        "colab": {
          "base_uri": "https://localhost:8080/"
        },
        "outputId": "479f3af6-4c74-4c1d-c44c-b1167e525c0b"
      },
      "source": [
        "# 확인용\n",
        "print('초기 중심 A: ', meanA)\n",
        "print('초기 중심 B: ', meanB)"
      ],
      "execution_count": null,
      "outputs": [
        {
          "output_type": "stream",
          "name": "stdout",
          "text": [
            "초기 중심 A:  [6.0, 3.0]\n",
            "초기 중심 B:  [6.2, 2.8]\n"
          ]
        }
      ]
    },
    {
      "cell_type": "code",
      "metadata": {
        "id": "-6Zn9OVhQzWT"
      },
      "source": [
        "# 함수 정의(중심 두 개를 입력하면 => 원본 데이터와 중심을 시각화해주는 함수)\n",
        "\n",
        "def draw_initial(dot1, dot2) :\n",
        "    \n",
        "    # 원본 데이터 표시하기 \n",
        "    for row in data :\n",
        "        plt.scatter(row[0], row[1], color = 'silver')\n",
        "\n",
        "    # 초기 중심 표시하기\n",
        "    plt.scatter(dot1[0], dot1[1], color = 'red')\n",
        "    plt.scatter(dot2[0], dot2[1], color = 'blue')\n",
        "\n",
        "    plt.show()"
      ],
      "execution_count": null,
      "outputs": []
    },
    {
      "cell_type": "code",
      "metadata": {
        "id": "PSaz2m0pREEc",
        "colab": {
          "base_uri": "https://localhost:8080/",
          "height": 268
        },
        "outputId": "ffe8f077-59cb-4e6c-fa79-ed6317c5cc12"
      },
      "source": [
        "# [단계1.5] 초기 중심 설정 후의 모습을 시각화\n",
        "\n",
        "draw_initial(meanA, meanB)"
      ],
      "execution_count": null,
      "outputs": [
        {
          "output_type": "display_data",
          "data": {
            "text/plain": [
              "<Figure size 432x288 with 1 Axes>"
            ],
            "image/png": "[encoded data removed]"
          },
          "metadata": {
            "needs_background": "light"
          }
        }
      ]
    },
    {
      "cell_type": "code",
      "metadata": {
        "id": "d12HB-v9RJ5t"
      },
      "source": [
        "# 함수 만들기(두 점을 입력하면 => 거리를 리턴해주는 함수)\n",
        "\n",
        "def calculate_distance(dot1, dot2) :\n",
        "\n",
        "    # x좌표 차이\n",
        "    x_dist = dot2[0] - dot1[0]\n",
        "    # y좌표 차이\n",
        "    y_dist = dot2[1] - dot1[1]\n",
        "     \n",
        "    # 두 점 사이의 거리 계산\n",
        "    distance = (x_dist**2 + y_dist**2)**0.5\n",
        "\n",
        "    return distance"
      ],
      "execution_count": null,
      "outputs": []
    },
    {
      "cell_type": "code",
      "metadata": {
        "id": "yC7u2l_uZY3f"
      },
      "source": [
        "# 함수 만들기(중심 두 개를 입력하면 => 각 중심까지의 거리에 따라 그룹을 배정한 뒤, 그 그룹을 리턴하는 함수)\n",
        "\n",
        "def clustering(dot1, dot2) :\n",
        "\n",
        "    gA, gB = [], [] \n",
        "\n",
        "    # 각 중심까지의 거리에 따라 그룹 배정\n",
        "    for row in data :\n",
        "\n",
        "        distA = calculate_distance(row[:2], dot1)\n",
        "        distB = calculate_distance(row[:2], dot2)\n",
        "\n",
        "        if distA < distB :\n",
        "            gA.append(row)\n",
        "        else :\n",
        "            gB.append(row)\n",
        "    \n",
        "    return gA, gB"
      ],
      "execution_count": null,
      "outputs": []
    },
    {
      "cell_type": "code",
      "metadata": {
        "id": "t1yps5ObCiM_"
      },
      "source": [
        "# [단계2] 중심까지의 거리에 따라 그룹화 <- 반복 구조에 포함\n",
        "\n",
        "groupA, groupB = clustering(meanA, meanB)"
      ],
      "execution_count": null,
      "outputs": []
    },
    {
      "cell_type": "code",
      "metadata": {
        "id": "Jr1_RA75Q96B",
        "colab": {
          "base_uri": "https://localhost:8080/"
        },
        "outputId": "53a92a08-b731-4737-e78d-b59990fea197"
      },
      "source": [
        "# 확인용\n",
        "\n",
        "print(len(groupA), len(groupB))"
      ],
      "execution_count": null,
      "outputs": [
        {
          "output_type": "stream",
          "name": "stdout",
          "text": [
            "61 39\n"
          ]
        }
      ]
    },
    {
      "cell_type": "code",
      "metadata": {
        "id": "n3dRA_MlcB8p"
      },
      "source": [
        "# 함수 만들기(특정 그룹을 입력하면 => 그룹 내 데이터들의 평균을 계산해서 리턴해주는 함수)\n",
        "\n",
        "def update_mean(group) :\n",
        "\n",
        "    # x,y좌표 합을 저장할 변수 초기화\n",
        "    sum_x, sum_y = 0, 0\n",
        "\n",
        "    # 그룹 내 데이터의 x,y좌표 합을 각각 계산\n",
        "    for g in group :\n",
        "        sum_x += g[0]\n",
        "        sum_y += g[1]\n",
        "    \n",
        "    # 그룹 내 데이터의 평균 좌표값으로 중심 설정\n",
        "    mean = [sum_x/len(group), sum_y/len(group)]\n",
        "    \n",
        "    return mean"
      ],
      "execution_count": null,
      "outputs": []
    },
    {
      "cell_type": "code",
      "metadata": {
        "id": "L5OyBdY6FpdA"
      },
      "source": [
        "# [단계3] 중심 업데이트 <- 반복 구조에 포함\n",
        "\n",
        "meanA = update_mean(groupA)\n",
        "meanB = update_mean(groupB)"
      ],
      "execution_count": null,
      "outputs": []
    },
    {
      "cell_type": "code",
      "metadata": {
        "id": "03aMItZWPaVB",
        "colab": {
          "base_uri": "https://localhost:8080/"
        },
        "outputId": "5b57ab04-17e7-4caf-e54a-aac4c0eefc96"
      },
      "source": [
        "# 확인용\n",
        "\n",
        "print(meanA, meanB)"
      ],
      "execution_count": null,
      "outputs": [
        {
          "output_type": "stream",
          "name": "stdout",
          "text": [
            "[5.163934426229508, 3.3442622950819683] [6.787179487179487, 2.976923076923076]\n"
          ]
        }
      ]
    },
    {
      "cell_type": "code",
      "metadata": {
        "id": "jhQtZPg73czc"
      },
      "source": [
        "# 함수 만들기(그룹 두 개와 중심 두 개를 입력하면 => 그룹화 및 중심 업데이트 후의 모습을 시각화해주는 함수)\n",
        "\n",
        "def draw_grouped(gA, gB, dot1, dot2) :\n",
        "\n",
        "    for a in gA :\n",
        "        plt.scatter(a[0], a[1], color = 'pink')\n",
        "    for b in gB :\n",
        "        plt.scatter(b[0], b[1], color = 'skyblue')\n",
        "\n",
        "    plt.scatter(dot1[0], dot1[1], marker = '^', s= 100, color = 'red')\n",
        "    plt.scatter(dot2[0], dot2[1], marker = '^', s= 100, color = 'blue')\n",
        "\n",
        "    plt.show()"
      ],
      "execution_count": null,
      "outputs": []
    },
    {
      "cell_type": "code",
      "metadata": {
        "id": "D9nBZJbe6Ok5",
        "colab": {
          "base_uri": "https://localhost:8080/",
          "height": 268
        },
        "outputId": "24c74ee1-ae42-44d1-9bda-fe6d74edb599"
      },
      "source": [
        "# [단계3.5] 그룹화 및 중심 업데이트 후의 모습을 시각화 <- 반복 구조에 포함\n",
        "\n",
        "draw_grouped(groupA, groupB, meanA, meanB)"
      ],
      "execution_count": null,
      "outputs": [
        {
          "output_type": "display_data",
          "data": {
            "text/plain": [
              "<Figure size 432x288 with 1 Axes>"
            ],
            "image/png": "[encoded data removed]"
          },
          "metadata": {
            "needs_background": "light"
          }
        }
      ]
    },
    {
      "cell_type": "markdown",
      "metadata": {
        "id": "deSfau-aS-0k"
      },
      "source": [
        "# **3. 위 과정을 종합하여 k_means 함수로 만들기**"
      ]
    },
    {
      "cell_type": "code",
      "metadata": {
        "id": "lLg6kXt48mwf"
      },
      "source": [
        "# 함수 만들기(주어진 학습 데이터를 k-means알고리즘으로 클러스터링해주는 함수)\n",
        "\n",
        "def k_means() :\n",
        "\n",
        "    # 초기 중심을 랜덤으로 설정\n",
        "    meanA, meanB = [0,0], [0,0]\n",
        "    while meanA == meanB :\n",
        "        meanA = random.choice(data)[:2]\n",
        "        meanB = random.choice(data)[:2]\n",
        "\n",
        "    # 초기 중심이 설정된 모습 시각화(확인용)    \n",
        "    draw_initial(meanA, meanB)\n",
        "\n",
        "    # 그룹화 및 중심 업데이트를 원하는 횟수만큼 반복\n",
        "    for i in range(5) :\n",
        "        groupA, groupB = clustering(meanA, meanB)\n",
        "        meanA = update_mean(groupA)\n",
        "        meanB = update_mean(groupB)\n",
        "        draw_grouped(groupA, groupB, meanA, meanB)\n"
      ],
      "execution_count": null,
      "outputs": []
    },
    {
      "cell_type": "code",
      "metadata": {
        "id": "zEDe05j_bNaN",
        "colab": {
          "base_uri": "https://localhost:8080/",
          "height": 1000
        },
        "outputId": "e7f53cb3-8a13-4e87-d25f-425068ee33f7"
      },
      "source": [
        "# 최종 실행\n",
        "\n",
        "k_means()"
      ],
      "execution_count": null,
      "outputs": [
        {
          "output_type": "display_data",
          "data": {
            "text/plain": [
              "<Figure size 432x288 with 1 Axes>"
            ],
            "image/png": "[encoded data removed]"
          },
          "metadata": {
            "needs_background": "light"
          }
        },
        {
          "output_type": "display_data",
          "data": {
            "text/plain": [
              "<Figure size 432x288 with 1 Axes>"
            ],
            "image/png": "[encoded data removed]"
          },
          "metadata": {
            "needs_background": "light"
          }
        },
        {
          "output_type": "display_data",
          "data": {
            "text/plain": [
              "<Figure size 432x288 with 1 Axes>"
            ],
            "image/png": "[encoded data removed]"
          },
          "metadata": {
            "needs_background": "light"
          }
        },
        {
          "output_type": "display_data",
          "data": {
            "text/plain": [
              "<Figure size 432x288 with 1 Axes>"
            ],
            "image/png": "[encoded data removed]"
          },
          "metadata": {
            "needs_background": "light"
          }
        },
        {
          "output_type": "display_data",
          "data": {
            "text/plain": [
              "<Figure size 432x288 with 1 Axes>"
            ],
            "image/png": "[encoded data removed]"
          },
          "metadata": {
            "needs_background": "light"
          }
        },
        {
          "output_type": "display_data",
          "data": {
            "text/plain": [
              "<Figure size 432x288 with 1 Axes>"
            ],
            "image/png": "[encoded data removed]"
          },
          "metadata": {
            "needs_background": "light"
          }
        }
      ]
    },
    {
      "cell_type": "markdown",
      "source": [
        "## 함수\n",
        "# draw_initial(dot1,dot2) \n",
        "중심 두개 입력하면 원본데이터와 중심 시각화\n",
        "# calculate_distance(dot1,dot2) \n",
        "두 점 사이 거리 리턴\n",
        "# clustering(dot1,dot2)\n",
        "중심 두개 입력하면, 각 중심까지 거리에 따라 모든데이터를 그룹배정한 뒤 그룹을 리턴하는 함수 \n",
        "groupA,groupB=clustering(meanA,meanB)\n",
        "# update_mean(group) \n",
        "특정 그룹을 입력하면 그룹 내 데이터들의 평균을 계산해서 리턴해주는 함수 \n",
        "# draw_grouped(gA,gB,dot1,dot2) \n",
        "그룹2개,중심2개 입력하면 그룹화 및 중심 업데이트 후 모습을 시각화해주는 함수 \n"
      ],
      "metadata": {
        "id": "zzE6_FHQ3d8M"
      }
    },
    {
      "cell_type": "markdown",
      "metadata": {
        "id": "jilZGQteqxld"
      },
      "source": [
        "# **4. 사이킷런 라이브러리를 활용한 k-means**"
      ]
    },
    {
      "cell_type": "code",
      "metadata": {
        "id": "9G_cDh1KsT8N"
      },
      "source": [
        "# 랜덤 클러스터 생성 (샘플 수, 속성 수, 클러스터 수, 표준편차)\n",
        "\n",
        "from sklearn.datasets import make_blobs\n",
        "\n",
        "X, y = make_blobs(n_samples=100, n_features=2, centers=3, cluster_std=2)"
      ],
      "execution_count": null,
      "outputs": []
    },
    {
      "cell_type": "code",
      "metadata": {
        "id": "E5E-JeHDsgJn"
      },
      "source": [
        "# 확인용\n",
        "X"
      ],
      "execution_count": null,
      "outputs": []
    },
    {
      "cell_type": "code",
      "metadata": {
        "id": "e7zS4KZ9siKu",
        "colab": {
          "base_uri": "https://localhost:8080/"
        },
        "outputId": "b37ef911-995c-4b31-d962-bfa5356c7d03"
      },
      "source": [
        "# 확인용\n",
        "y"
      ],
      "execution_count": null,
      "outputs": [
        {
          "output_type": "execute_result",
          "data": {
            "text/plain": [
              "array([1, 0, 2, 2, 2, 1, 0, 2, 0, 2, 1, 2, 0, 1, 1, 0, 1, 1, 0, 2, 2, 0,\n",
              "       2, 1, 0, 1, 1, 2, 0, 1, 0, 1, 0, 2, 1, 0, 2, 1, 2, 1, 0, 0, 1, 2,\n",
              "       1, 0, 0, 0, 2, 2, 0, 2, 1, 0, 2, 2, 0, 2, 2, 1, 0, 0, 0, 2, 2, 1,\n",
              "       2, 1, 0, 0, 1, 2, 0, 1, 2, 1, 1, 0, 0, 1, 1, 2, 2, 1, 0, 0, 1, 0,\n",
              "       2, 0, 1, 1, 0, 1, 2, 2, 2, 0, 2, 1])"
            ]
          },
          "metadata": {},
          "execution_count": 30
        }
      ]
    },
    {
      "cell_type": "code",
      "metadata": {
        "id": "bc59E8posnjl",
        "colab": {
          "base_uri": "https://localhost:8080/",
          "height": 265
        },
        "outputId": "2df04312-b517-4577-a922-663f4a67f4d9"
      },
      "source": [
        "# 생성된 데이터 시각화\n",
        "\n",
        "for row in X :\n",
        "    plt.scatter(row[0], row[1], c='silver')"
      ],
      "execution_count": null,
      "outputs": [
        {
          "output_type": "display_data",
          "data": {
            "text/plain": [
              "<Figure size 432x288 with 1 Axes>"
            ],
            "image/png": "[encoded data removed]"
          },
          "metadata": {
            "needs_background": "light"
          }
        }
      ]
    },
    {
      "cell_type": "code",
      "metadata": {
        "id": "EXsckMgBs0Mt",
        "colab": {
          "base_uri": "https://localhost:8080/"
        },
        "outputId": "b7da9a33-a7f2-487b-8ff8-04662d57dbcd"
      },
      "source": [
        "# KMeans 알고리즘으로 학습 진행\n",
        "\n",
        "from sklearn.cluster import KMeans\n",
        "\n",
        "kmeans = KMeans(n_clusters=3)\n",
        "kmeans.fit(X)"
      ],
      "execution_count": null,
      "outputs": [
        {
          "output_type": "execute_result",
          "data": {
            "text/plain": [
              "KMeans(n_clusters=3)"
            ]
          },
          "metadata": {},
          "execution_count": 32
        }
      ]
    },
    {
      "cell_type": "code",
      "metadata": {
        "id": "nw8_3v7b08TU"
      },
      "source": [
        "# 학습 후 부여된 레이블\n",
        "classified = kmeans.labels_"
      ],
      "execution_count": null,
      "outputs": []
    },
    {
      "cell_type": "code",
      "metadata": {
        "id": "JXYJ196_WFUj",
        "colab": {
          "base_uri": "https://localhost:8080/"
        },
        "outputId": "3bdc1344-3842-4ec5-c477-ae584b592ebe"
      },
      "source": [
        "# 확인용\n",
        "classified"
      ],
      "execution_count": null,
      "outputs": [
        {
          "output_type": "execute_result",
          "data": {
            "text/plain": [
              "array([2, 0, 1, 1, 1, 2, 0, 1, 0, 1, 2, 1, 0, 2, 2, 0, 2, 2, 2, 1, 1, 0,\n",
              "       1, 2, 0, 2, 2, 1, 0, 2, 2, 0, 0, 1, 2, 0, 1, 2, 1, 2, 0, 0, 2, 1,\n",
              "       2, 0, 0, 0, 1, 1, 0, 1, 2, 0, 1, 1, 0, 1, 1, 2, 0, 0, 0, 1, 1, 2,\n",
              "       1, 2, 0, 0, 2, 1, 0, 2, 1, 2, 2, 0, 0, 2, 2, 1, 1, 2, 0, 0, 2, 0,\n",
              "       1, 0, 2, 2, 0, 2, 1, 1, 1, 0, 1, 2], dtype=int32)"
            ]
          },
          "metadata": {},
          "execution_count": 34
        }
      ]
    },
    {
      "cell_type": "code",
      "metadata": {
        "id": "Y5ulJsretHuZ",
        "colab": {
          "base_uri": "https://localhost:8080/",
          "height": 320
        },
        "outputId": "3142c22f-0466-44cf-b32d-05a0d336b387"
      },
      "source": [
        "# KMeans 클러스터링 전/후 시각화\n",
        "\n",
        "plt.figure(figsize=(15,5))\n",
        "\n",
        "# KMeans 클러스터링 전 (원본)\n",
        "plt.subplot(1, 2, 1)\n",
        "for i in range(len(X)) :\n",
        "    if y[i] == 0 :\n",
        "        plt.scatter(X[i][0], X[i][1], c='rebeccapurple')\n",
        "    elif y[i] == 1 :\n",
        "        plt.scatter(X[i][0], X[i][1], c='pink')\n",
        "    elif y[i] == 2 :\n",
        "        plt.scatter(X[i][0], X[i][1], c='mediumvioletred')\n",
        "\n",
        "# KMeans 클러스터링 후  \n",
        "plt.subplot(1, 2, 2)\n",
        "for i in range(len(X)) :\n",
        "    if classified[i] == 0 :\n",
        "        plt.scatter(X[i][0], X[i][1], c='rebeccapurple')\n",
        "    elif classified[i] == 1 :\n",
        "        plt.scatter(X[i][0], X[i][1], c='pink')\n",
        "    elif classified[i] == 2 :\n",
        "        plt.scatter(X[i][0], X[i][1], c='mediumvioletred')\n",
        "    \n",
        "plt.show()"
      ],
      "execution_count": null,
      "outputs": [
        {
          "output_type": "display_data",
          "data": {
            "text/plain": [
              "<Figure size 1080x360 with 2 Axes>"
            ],
            "image/png": "[encoded data removed]"
          },
          "metadata": {
            "needs_background": "light"
          }
        }
      ]
    }
  ]
}