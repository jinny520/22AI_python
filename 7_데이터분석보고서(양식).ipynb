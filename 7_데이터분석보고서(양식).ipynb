{
  "nbformat": 4,
  "nbformat_minor": 0,
  "metadata": {
    "colab": {
      "name": "7.데이터분석보고서(양식).ipynb",
      "provenance": [],
      "collapsed_sections": [
        "iV5XxaIZJKC8"
      ],
      "include_colab_link": true
    },
    "kernelspec": {
      "name": "python3",
      "display_name": "Python 3"
    },
    "language_info": {
      "name": "python"
    }
  },
  "cells": [
    {
      "cell_type": "markdown",
      "metadata": {
        "id": "view-in-github",
        "colab_type": "text"
      },
      "source": [
        "<a href=\"https://colab.research.google.com/github/jinny520/22AI_python/blob/main/7_%EB%8D%B0%EC%9D%B4%ED%84%B0%EB%B6%84%EC%84%9D%EB%B3%B4%EA%B3%A0%EC%84%9C(%EC%96%91%EC%8B%9D).ipynb\" target=\"_parent\"><img src=\"https://colab.research.google.com/assets/colab-badge.svg\" alt=\"Open In Colab\"/></a>"
      ]
    },
    {
      "cell_type": "markdown",
      "metadata": {
        "id": "yIVAMQkuFkQp"
      },
      "source": [
        "## 1. 데이터 조사하기"
      ]
    },
    {
      "cell_type": "markdown",
      "metadata": {
        "id": "DPzzoR3MGQDk"
      },
      "source": [
        "1) 관심있는 데이터를 찾는 것부터 시작한다.<br>\n",
        "2) 공공데이터포털( http://www.data.go.kr ) 이용<br>\n",
        "3) 또는 관심 있는 분야 인터넷 검색 후 데이터 수집( https://www.kaggle.com/datasets )<br>\n"
      ]
    },
    {
      "cell_type": "code",
      "metadata": {
        "id": "n1SM1ywTdL1v"
      },
      "source": [
        "#한글 폰트 설정 \n",
        "!sudo apt-get install -y fonts-nanum\n",
        "!sudo fc-cache -fv\n",
        "!rm ~/.cache/matplotlib -rf\n",
        "# 폰트 설치 후 런타임 -> 런타임 다시 시작 메뉴 클릭 "
      ],
      "execution_count": null,
      "outputs": []
    },
    {
      "cell_type": "code",
      "source": [
        " #폰트 재설정 및 오류 해결(폰트 설정 안될때만 쓰기)\n",
        "# import matplotlib.font_manager as fm\n",
        "# fontpath = '/usr/share/fonts/truetype/nanum/NanumBarunGothic.ttf'\n",
        "# font = fm.FontProperties(fname=fontpath, size=9)\n",
        "# plt.rc('font', family='NanumBarunGothic') \n",
        "# mpl.font_manager._rebuild()\n",
        "#(한번에 주석처리 방법 : 블록처리한 코드들을 Ctrl , / , = 를 누르면 한번에 주석 처리됨 (세개다 눌러야함))\n"
      ],
      "metadata": {
        "id": "SybNQMqL7LGo"
      },
      "execution_count": null,
      "outputs": []
    },
    {
      "cell_type": "code",
      "metadata": {
        "id": "pvT9rcNGz6OE"
      },
      "source": [
        "# 데이터 가져오기 코드\n",
        "# shift+enter로 실행하여 데이터 파일을 선택하세요.\n",
        "from google.colab import files\n",
        "uploaded=files.upload()"
      ],
      "execution_count": null,
      "outputs": []
    },
    {
      "cell_type": "markdown",
      "metadata": {
        "id": "69HG2SgeyTNs"
      },
      "source": [
        "## 2. 데이터 시각화\n",
        "*   다운받은 데이터를 활용하여\n",
        "*   속성별 연관성을 발견할 수 있도록 그래프로 시각화하기\n",
        "\n",
        "\n",
        "\n",
        "\n",
        "\n",
        "\n",
        "\n"
      ]
    },
    {
      "cell_type": "code",
      "source": [
        "import csv \n",
        " \n",
        "f = open('파일이름.csv',encoding=\"CP949\") # 파일 오픈, 파일이름 같게 \n",
        "data = csv.reader(f)         # 파일 읽기 reader\n",
        "next(data)                   # 파일 헤더 건너뛰기 \n",
        "data = list(data)            # 파일 리스트로 바꾸기"
      ],
      "metadata": {
        "id": "P0VaPOIlxpaS"
      },
      "execution_count": null,
      "outputs": []
    },
    {
      "cell_type": "code",
      "source": [
        ""
      ],
      "metadata": {
        "id": "ojFCeAFhybI_"
      },
      "execution_count": null,
      "outputs": []
    },
    {
      "cell_type": "markdown",
      "metadata": {
        "id": "0vHx45cSvLis"
      },
      "source": [
        "## 3. 질문하기"
      ]
    },
    {
      "cell_type": "markdown",
      "metadata": {
        "id": "nFbxGSpX0Las"
      },
      "source": [
        "* 데이터에 질문하기\n",
        "##### 1)\n",
        "##### 2)\n",
        "##### 3)\n",
        "##### 4)\n",
        "##### 5)\n"
      ]
    },
    {
      "cell_type": "markdown",
      "source": [
        "* 최종질문 \n",
        "##### 여기에 작성\n"
      ],
      "metadata": {
        "id": "I4ioDU4nJbAz"
      }
    },
    {
      "cell_type": "markdown",
      "metadata": {
        "id": "o5-DKIDCar3f"
      },
      "source": [
        "## 4. 알고리즘 설계\n"
      ]
    },
    {
      "cell_type": "markdown",
      "metadata": {
        "id": "iV5XxaIZJKC8"
      },
      "source": [
        "* 문제 해결을 위한 5단계<br>\n",
        "##### 1)\n",
        "##### 2)\n",
        "##### 3)\n",
        "##### 4)\n",
        "##### 5)"
      ]
    },
    {
      "cell_type": "markdown",
      "metadata": {
        "id": "fY0qm7oRau4a"
      },
      "source": [
        "## 5. 코드작성\n",
        "*   문제 해결을 위한 알고리즘을 코드로 구현\n",
        "\n",
        "\n",
        "\n",
        "\n"
      ]
    },
    {
      "cell_type": "code",
      "metadata": {
        "id": "CQJceIHDc98Y"
      },
      "source": [
        ""
      ],
      "execution_count": null,
      "outputs": []
    }
  ]
}