{
  "nbformat": 4,
  "nbformat_minor": 0,
  "metadata": {
    "colab": {
      "name": "1.(완성본)머신러닝 분류.ipynb",
      "provenance": [],
      "collapsed_sections": [],
      "include_colab_link": true
    },
    "kernelspec": {
      "name": "python3",
      "display_name": "Python 3"
    }
  },
  "cells": [
    {
      "cell_type": "markdown",
      "metadata": {
        "id": "view-in-github",
        "colab_type": "text"
      },
      "source": [
        "<a href=\"https://colab.research.google.com/github/jinny520/22AI_python/blob/main/1_(%EC%99%84%EC%84%B1%EB%B3%B8)%EB%A8%B8%EC%8B%A0%EB%9F%AC%EB%8B%9D_%EB%B6%84%EB%A5%98.ipynb\" target=\"_parent\"><img src=\"https://colab.research.google.com/assets/colab-badge.svg\" alt=\"Open In Colab\"/></a>"
      ]
    },
    {
      "cell_type": "markdown",
      "metadata": {
        "id": "Sx70VPsV5ze2"
      },
      "source": [
        "# 1. 인공지능이란? \n",
        " : 인간의 지능을 인공적으로 모방하는 총체\n",
        "\n",
        " <img src='https://miro.medium.com/max/1000/0*lOPl0881zcdhdHnl.png' width=700>\n",
        "\n",
        "\n",
        "\n",
        "> 인공지능(Artificial Intelligence)\n",
        "\n",
        ": 가장 오래된 개념으로 인간의 지능을 컴퓨터 프로그램으로 구현해 인공적인 지능을 갖춘 컴퓨터 시스템이다.\n",
        "\n",
        "  * Q. 인공지능의 사례 ? 계산 기능을 모방한 계산기, 일정관리 앱, \n",
        "  * 또 다른 인공지능의 사례를 생각해봅시다\n",
        "\n",
        "> 머신러닝 (Machine Learning)\n",
        "\n",
        ": 말 그대로 기계(Machine)가 스스로 학습(Learning)을 하는 것으로 인간이 직접 지시를(프로그래밍) 하는 것이 아니고, 데이터와 원하는 결과 값을 주면 스스로 학습하여 조건을 찾는 것이다. 인간이 컴퓨터를 다루는 근본적인 개념을 바꾸었다는 측면에서 큰 의미를 지닌다.\n",
        "\n",
        "<img src='https://i0.wp.com/vinodsblog.com/wp-content/uploads/2018/11/Classification-vs-Regression.png?fit=2048%2C1158&ssl=1' width=600>\n",
        "\n",
        "--> [기존 프로그래밍과 인공지능의 차이](https://youtu.be/ZY6eBxyEOq0)\n",
        "\n",
        "> 딥러닝(Deep Learning)\n",
        "\n",
        ": 인간의 뇌 신경망을 모방한 인공 신경망의 한 종류로 예전부터 존재했으나, 근본적인 한계로 인해 사라질 뻔하다가 2000년대 들어 기존 한계를 극복할 알고리즘을 찾아 ‘딥러닝’이라는 새로운 이름으로 브랜딩 하였다. 근래 들어 축적된 막대한 데이터와 그래픽 처리 장치의 발전으로 정확도가 급격히 좋아져서 현재는 활발히 이용되고 있다.\n",
        "\n",
        "\n",
        "* 신경세포 뉴런\n",
        "\n",
        "<img src='https://thumbs.gfycat.com/BrightElatedAlbino-small.gif' width=400>\n",
        "\n",
        "* 서로 상호작용하는 뉴런\n",
        "\n",
        "<img src='https://media2.giphy.com/media/9N2UvCx7wXLnG/giphy.gif' width=600>\n",
        "\n",
        "* 뉴런을 모방한 인공신경망\n",
        "\n",
        "<img src='https://thumbs.gfycat.com/ActiveCourteousAmericanindianhorse-small.gif' width=600>\n",
        "\n"
      ]
    },
    {
      "cell_type": "markdown",
      "metadata": {
        "id": "CNzoB0jx_fs1"
      },
      "source": [
        "\n",
        "# 2. 머신러닝과 딥러닝의 차이\n",
        "\n",
        "<img src='https://blog.kakaocdn.net/dn/LYTie/btqDp12Zbvq/YyvsPGwZYfnvVcHfi9kTE0/img.jpg' width=600>\n",
        "              \n",
        "\n",
        "<img src='https://kr.mathworks.com/solutions/image-video-processing/object-recognition/_jcr_content/mainParsys/band_copy_copy_14735_1351083864/mainParsys/columns_1606542234_c_508428977/2/image_copy_copy_copy.adapt.480.high.svg/1599565806635.svg' width=600>\n",
        "                \n",
        "\n",
        "\n",
        "\n",
        "<img src='https://www.aitimes.kr/news/photo/201807/12087_12004_574.png' width=600>"
      ]
    },
    {
      "cell_type": "markdown",
      "metadata": {
        "id": "JBNUqSMwb3ko"
      },
      "source": [
        "# 3. 지도학습, 비지도학습\n",
        "\n",
        "<img src='https://nohjiho.github.io/images/ml/tensorflow/%EB%A8%B8%EC%8B%A0%EB%9F%AC%EB%8B%9D_%EC%9C%A0%ED%98%95.png' width=1000>"
      ]
    },
    {
      "cell_type": "markdown",
      "metadata": {
        "id": "Ch5yb_zj5zkd"
      },
      "source": [
        "# 4. 지도학습\n",
        "## 분류와 회귀\n",
        "  *  분류 : 서로 다른 대상을 구분하는 것 (결과값이 구분적인 값)\n",
        "  *  회귀 : 새로운 데이터의 예측값을 구하는 것 (결과값이 연속적인 값)\n",
        "\n",
        "<img src='https://i0.wp.com/vinodsblog.com/wp-content/uploads/2018/11/Classification-vs-Regression.png?fit=2048%2C1158&ssl=1' width=600>\n",
        "\n",
        "\n",
        "\n",
        "  * Q. 분류로 해결할 수 있는 문제에는 무엇이 있을까요?\n",
        "  * Q. 회귀로 해결할 수 있는 문제에는 무엇이 있을까요?"
      ]
    },
    {
      "cell_type": "markdown",
      "metadata": {
        "id": "GiabW-Cw5zm2"
      },
      "source": [
        "\n",
        "# 5. 분류 알고리즘\n",
        "## 5-1. Decision Tree (의사결정트리) \n"
      ]
    },
    {
      "cell_type": "markdown",
      "source": [
        "## 5-2. KNN\n",
        "\n",
        "<img src='https://blog.kakaocdn.net/dn/cvzGSE/btqw569xJ8n/DfckialHS6fgKmDZpy4L01/img.png' width=600>\n",
        "\n",
        "<img src='https://img1.daumcdn.net/thumb/R1280x0/?scode=mtistory2&fname=https%3A%2F%2Fblog.kakaocdn.net%2Fdn%2FbIPgPh%2FbtqyUfXFHSg%2FzaSUkU4xoqEEAsOClKWvw1%2Fimg.png' width=800>"
      ],
      "metadata": {
        "id": "vWc9QJS-bZRx"
      }
    }
  ]
}